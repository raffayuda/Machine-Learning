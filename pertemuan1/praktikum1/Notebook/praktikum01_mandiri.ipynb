{
 "cells": [
  {
   "cell_type": "code",
   "execution_count": 1,
   "id": "cafe4614",
   "metadata": {},
   "outputs": [
    {
     "name": "stdout",
     "output_type": "stream",
     "text": [
      "   instant      dteday  temp  season   hum  windspeed\n",
      "0        1  2011-01-01  0.24       1  0.81        0.0\n",
      "1        2  2011-01-01  0.22       1  0.80        0.0\n",
      "2        3  2011-01-01  0.22       1  0.80        0.0\n",
      "3        4  2011-01-01  0.24       1  0.75        0.0\n",
      "4        5  2011-01-01  0.24       1  0.75        0.0\n"
     ]
    }
   ],
   "source": [
    "import pandas as pd\n",
    "# 1. Lakukan latihan baca file dataset lainnya dan tampilkan !\n",
    "df = pd.read_csv('../data/hour.csv', sep=',')\n",
    "\n",
    "# 2. Buat dataframe baru (missal: df1) dari dataframe sebelumnya, dengan data yang diambil adalah instant, dteday,season,temp,hum,windspeed\n",
    "df1 = df[['instant', 'dteday', 'temp', 'season', 'hum', 'windspeed']]\n",
    "\n",
    "# 3. Cetak dataframe baru kelayar\n",
    "print(df1.head(5))\n",
    "\n",
    "# 4. simpan data yang sudah di filter\n",
    "df1.to_csv('../data/latihan01.csv', index=False)"
   ]
  }
 ],
 "metadata": {
  "kernelspec": {
   "display_name": "Python 3",
   "language": "python",
   "name": "python3"
  },
  "language_info": {
   "codemirror_mode": {
    "name": "ipython",
    "version": 3
   },
   "file_extension": ".py",
   "mimetype": "text/x-python",
   "name": "python",
   "nbconvert_exporter": "python",
   "pygments_lexer": "ipython3",
   "version": "3.13.3"
  }
 },
 "nbformat": 4,
 "nbformat_minor": 5
}
