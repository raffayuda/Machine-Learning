{
 "cells": [
  {
   "cell_type": "markdown",
   "id": "961d4a42",
   "metadata": {},
   "source": [
    "1. Import Library "
   ]
  },
  {
   "cell_type": "code",
   "execution_count": 46,
   "id": "b1f50bf3",
   "metadata": {},
   "outputs": [],
   "source": [
    "import numpy as np\n",
    "import pandas as pd\n",
    "import matplotlib.pyplot as plt\n",
    "\n",
    "from sklearn.model_selection import train_test_split\n",
    "from sklearn.compose import ColumnTransformer\n",
    "from sklearn.preprocessing import OneHotEncoder, StandardScaler\n",
    "from sklearn.pipeline import Pipeline\n",
    "from sklearn.linear_model import LogisticRegression\n",
    "from sklearn.metrics import (\n",
    "    accuracy_score,\n",
    "    precision_score,\n",
    "    recall_score,\n",
    "    f1_score,\n",
    "    roc_auc_score,\n",
    "    confusion_matrix,\n",
    "    classification_report,\n",
    "    RocCurveDisplay,\n",
    "    ConfusionMatrixDisplay\n",
    ")"
   ]
  },
  {
   "cell_type": "markdown",
   "id": "8ff4bf71",
   "metadata": {},
   "source": [
    "2. Membaca data file CSV"
   ]
  },
  {
   "cell_type": "code",
   "execution_count": 47,
   "id": "42baefa3",
   "metadata": {},
   "outputs": [
    {
     "data": {
      "text/html": [
       "<div>\n",
       "<style scoped>\n",
       "    .dataframe tbody tr th:only-of-type {\n",
       "        vertical-align: middle;\n",
       "    }\n",
       "\n",
       "    .dataframe tbody tr th {\n",
       "        vertical-align: top;\n",
       "    }\n",
       "\n",
       "    .dataframe thead th {\n",
       "        text-align: right;\n",
       "    }\n",
       "</style>\n",
       "<table border=\"1\" class=\"dataframe\">\n",
       "  <thead>\n",
       "    <tr style=\"text-align: right;\">\n",
       "      <th></th>\n",
       "      <th>Jenis Kelamin</th>\n",
       "      <th>Umur (bulan)</th>\n",
       "      <th>Tinggi Badan (cm)</th>\n",
       "      <th>Berat Badan (kg)</th>\n",
       "      <th>Stunting</th>\n",
       "      <th>Wasting</th>\n",
       "    </tr>\n",
       "  </thead>\n",
       "  <tbody>\n",
       "    <tr>\n",
       "      <th>0</th>\n",
       "      <td>Laki-laki</td>\n",
       "      <td>19</td>\n",
       "      <td>91.6</td>\n",
       "      <td>13.3</td>\n",
       "      <td>Tall</td>\n",
       "      <td>Risk of Overweight</td>\n",
       "    </tr>\n",
       "    <tr>\n",
       "      <th>1</th>\n",
       "      <td>Laki-laki</td>\n",
       "      <td>20</td>\n",
       "      <td>77.7</td>\n",
       "      <td>8.5</td>\n",
       "      <td>Stunted</td>\n",
       "      <td>Underweight</td>\n",
       "    </tr>\n",
       "    <tr>\n",
       "      <th>2</th>\n",
       "      <td>Laki-laki</td>\n",
       "      <td>10</td>\n",
       "      <td>79.0</td>\n",
       "      <td>10.3</td>\n",
       "      <td>Normal</td>\n",
       "      <td>Risk of Overweight</td>\n",
       "    </tr>\n",
       "    <tr>\n",
       "      <th>3</th>\n",
       "      <td>Perempuan</td>\n",
       "      <td>2</td>\n",
       "      <td>50.3</td>\n",
       "      <td>8.3</td>\n",
       "      <td>Severely Stunted</td>\n",
       "      <td>Risk of Overweight</td>\n",
       "    </tr>\n",
       "    <tr>\n",
       "      <th>4</th>\n",
       "      <td>Perempuan</td>\n",
       "      <td>5</td>\n",
       "      <td>56.4</td>\n",
       "      <td>10.9</td>\n",
       "      <td>Severely Stunted</td>\n",
       "      <td>Risk of Overweight</td>\n",
       "    </tr>\n",
       "  </tbody>\n",
       "</table>\n",
       "</div>"
      ],
      "text/plain": [
       "  Jenis Kelamin  Umur (bulan)  Tinggi Badan (cm)  Berat Badan (kg)  \\\n",
       "0     Laki-laki            19               91.6              13.3   \n",
       "1     Laki-laki            20               77.7               8.5   \n",
       "2     Laki-laki            10               79.0              10.3   \n",
       "3     Perempuan             2               50.3               8.3   \n",
       "4     Perempuan             5               56.4              10.9   \n",
       "\n",
       "           Stunting             Wasting  \n",
       "0              Tall  Risk of Overweight  \n",
       "1           Stunted         Underweight  \n",
       "2            Normal  Risk of Overweight  \n",
       "3  Severely Stunted  Risk of Overweight  \n",
       "4  Severely Stunted  Risk of Overweight  "
      ]
     },
     "execution_count": 47,
     "metadata": {},
     "output_type": "execute_result"
    }
   ],
   "source": [
    "df = pd.read_csv('../../Data/stunting_wasting_dataset.csv')\n",
    "df.head()"
   ]
  },
  {
   "cell_type": "markdown",
   "id": "d2997618",
   "metadata": {},
   "source": [
    "3. Melihat informasi umum dataset"
   ]
  },
  {
   "cell_type": "code",
   "execution_count": 48,
   "id": "08a3106f",
   "metadata": {},
   "outputs": [
    {
     "name": "stdout",
     "output_type": "stream",
     "text": [
      "<class 'pandas.core.frame.DataFrame'>\n",
      "RangeIndex: 100000 entries, 0 to 99999\n",
      "Data columns (total 6 columns):\n",
      " #   Column             Non-Null Count   Dtype  \n",
      "---  ------             --------------   -----  \n",
      " 0   Jenis Kelamin      100000 non-null  object \n",
      " 1   Umur (bulan)       100000 non-null  int64  \n",
      " 2   Tinggi Badan (cm)  100000 non-null  float64\n",
      " 3   Berat Badan (kg)   100000 non-null  float64\n",
      " 4   Stunting           100000 non-null  object \n",
      " 5   Wasting            100000 non-null  object \n",
      "dtypes: float64(2), int64(1), object(3)\n",
      "memory usage: 4.6+ MB\n"
     ]
    }
   ],
   "source": [
    "df.info()"
   ]
  },
  {
   "cell_type": "markdown",
   "id": "9cc228f3",
   "metadata": {},
   "source": [
    "4. Data Pre-processing"
   ]
  },
  {
   "cell_type": "markdown",
   "id": "bedf9f55",
   "metadata": {},
   "source": [
    "4.1 Cek Missing Value"
   ]
  },
  {
   "cell_type": "code",
   "execution_count": 49,
   "id": "8fda6565",
   "metadata": {},
   "outputs": [
    {
     "data": {
      "text/plain": [
       "Jenis Kelamin        0\n",
       "Umur (bulan)         0\n",
       "Tinggi Badan (cm)    0\n",
       "Berat Badan (kg)     0\n",
       "Stunting             0\n",
       "Wasting              0\n",
       "dtype: int64"
      ]
     },
     "execution_count": 49,
     "metadata": {},
     "output_type": "execute_result"
    }
   ],
   "source": [
    "df.isnull().sum()"
   ]
  },
  {
   "cell_type": "code",
   "execution_count": 50,
   "id": "12c098b2",
   "metadata": {},
   "outputs": [],
   "source": [
    "df.duplicated().sum()\n",
    "\n",
    "df.drop_duplicates(inplace=True)"
   ]
  },
  {
   "cell_type": "markdown",
   "id": "086912ed",
   "metadata": {},
   "source": [
    "4.2 Cek Nilai Unik "
   ]
  },
  {
   "cell_type": "code",
   "execution_count": 51,
   "id": "3fed804f",
   "metadata": {},
   "outputs": [
    {
     "data": {
      "text/plain": [
       "array(['Tall', 'Stunted', 'Normal', 'Severely Stunted'], dtype=object)"
      ]
     },
     "execution_count": 51,
     "metadata": {},
     "output_type": "execute_result"
    }
   ],
   "source": [
    "df['Stunting'].unique()"
   ]
  },
  {
   "cell_type": "code",
   "execution_count": 52,
   "id": "62f3f0c1",
   "metadata": {},
   "outputs": [
    {
     "data": {
      "text/plain": [
       "array(['Laki-laki', 'Perempuan'], dtype=object)"
      ]
     },
     "execution_count": 52,
     "metadata": {},
     "output_type": "execute_result"
    }
   ],
   "source": [
    "df['Jenis Kelamin'].unique()"
   ]
  },
  {
   "cell_type": "markdown",
   "id": "0ad05e4d",
   "metadata": {},
   "source": [
    "4.3 Mapping Kolom Kategorik ke Bentuk Numerik"
   ]
  },
  {
   "cell_type": "code",
   "execution_count": 53,
   "id": "f44f8c60",
   "metadata": {},
   "outputs": [
    {
     "name": "stdout",
     "output_type": "stream",
     "text": [
      "Distribusi Stunting_bin:\n",
      " Stunting_bin\n",
      "0    72320\n",
      "1    20372\n",
      "Name: count, dtype: Int64\n",
      "\n",
      "Distribusi JK_bin:\n",
      " JK_bin\n",
      "1    46353\n",
      "0    46339\n",
      "Name: count, dtype: int64\n"
     ]
    }
   ],
   "source": [
    "# 1. Mapping kolom Stunting -> biner\n",
    "map_stunt = {\n",
    "    'Stunted': 1,\n",
    "    'Severely Stunted': 1,\n",
    "    'Normal': 0,\n",
    "    'Tall': 0\n",
    "}\n",
    "df['Stunting_bin'] = df['Stunting'].map(map_stunt).astype('Int64')\n",
    "\n",
    "# 2. Mapping kolom Jenis Kelamin -> biner\n",
    "# Laki-Laki = 1, Perempuan = 0\n",
    "df['JK_bin'] = (df['Jenis Kelamin'] == 'Laki-laki').astype(int)\n",
    "\n",
    "print(\"Distribusi Stunting_bin:\\n\", df['Stunting_bin'].value_counts())\n",
    "print(\"\\nDistribusi JK_bin:\\n\", df['JK_bin'].value_counts())"
   ]
  },
  {
   "cell_type": "markdown",
   "id": "7aeb0013",
   "metadata": {},
   "source": [
    "4.4 Analisis Korelasi Antar Variabel Numerik"
   ]
  },
  {
   "cell_type": "code",
   "execution_count": 54,
   "id": "6701894c",
   "metadata": {},
   "outputs": [
    {
     "data": {
      "text/html": [
       "<div>\n",
       "<style scoped>\n",
       "    .dataframe tbody tr th:only-of-type {\n",
       "        vertical-align: middle;\n",
       "    }\n",
       "\n",
       "    .dataframe tbody tr th {\n",
       "        vertical-align: top;\n",
       "    }\n",
       "\n",
       "    .dataframe thead th {\n",
       "        text-align: right;\n",
       "    }\n",
       "</style>\n",
       "<table border=\"1\" class=\"dataframe\">\n",
       "  <thead>\n",
       "    <tr style=\"text-align: right;\">\n",
       "      <th></th>\n",
       "      <th>Umur (bulan)</th>\n",
       "      <th>Tinggi Badan (cm)</th>\n",
       "      <th>Berat Badan (kg)</th>\n",
       "      <th>Stunting_bin</th>\n",
       "      <th>JK_bin</th>\n",
       "    </tr>\n",
       "  </thead>\n",
       "  <tbody>\n",
       "    <tr>\n",
       "      <th>Umur (bulan)</th>\n",
       "      <td>1.000000</td>\n",
       "      <td>0.874162</td>\n",
       "      <td>0.659566</td>\n",
       "      <td>0.037173</td>\n",
       "      <td>0.000636</td>\n",
       "    </tr>\n",
       "    <tr>\n",
       "      <th>Tinggi Badan (cm)</th>\n",
       "      <td>0.874162</td>\n",
       "      <td>1.000000</td>\n",
       "      <td>0.618453</td>\n",
       "      <td>-0.288216</td>\n",
       "      <td>0.070159</td>\n",
       "    </tr>\n",
       "    <tr>\n",
       "      <th>Berat Badan (kg)</th>\n",
       "      <td>0.659566</td>\n",
       "      <td>0.618453</td>\n",
       "      <td>1.000000</td>\n",
       "      <td>0.020676</td>\n",
       "      <td>0.043446</td>\n",
       "    </tr>\n",
       "    <tr>\n",
       "      <th>Stunting_bin</th>\n",
       "      <td>0.037173</td>\n",
       "      <td>-0.288216</td>\n",
       "      <td>0.020676</td>\n",
       "      <td>1.000000</td>\n",
       "      <td>-0.005187</td>\n",
       "    </tr>\n",
       "    <tr>\n",
       "      <th>JK_bin</th>\n",
       "      <td>0.000636</td>\n",
       "      <td>0.070159</td>\n",
       "      <td>0.043446</td>\n",
       "      <td>-0.005187</td>\n",
       "      <td>1.000000</td>\n",
       "    </tr>\n",
       "  </tbody>\n",
       "</table>\n",
       "</div>"
      ],
      "text/plain": [
       "                   Umur (bulan)  Tinggi Badan (cm)  Berat Badan (kg)  \\\n",
       "Umur (bulan)           1.000000           0.874162          0.659566   \n",
       "Tinggi Badan (cm)      0.874162           1.000000          0.618453   \n",
       "Berat Badan (kg)       0.659566           0.618453          1.000000   \n",
       "Stunting_bin           0.037173          -0.288216          0.020676   \n",
       "JK_bin                 0.000636           0.070159          0.043446   \n",
       "\n",
       "                   Stunting_bin    JK_bin  \n",
       "Umur (bulan)           0.037173  0.000636  \n",
       "Tinggi Badan (cm)     -0.288216  0.070159  \n",
       "Berat Badan (kg)       0.020676  0.043446  \n",
       "Stunting_bin           1.000000 -0.005187  \n",
       "JK_bin                -0.005187  1.000000  "
      ]
     },
     "execution_count": 54,
     "metadata": {},
     "output_type": "execute_result"
    }
   ],
   "source": [
    "corr_matrix = df.corr(numeric_only=True)\n",
    "corr_matrix"
   ]
  },
  {
   "cell_type": "markdown",
   "id": "ea26ba47",
   "metadata": {},
   "source": [
    "4.5 Visualisasi Heatmap Korelasi"
   ]
  },
  {
   "cell_type": "code",
   "execution_count": 55,
   "id": "3ff5c47d",
   "metadata": {},
   "outputs": [
    {
     "data": {
      "text/plain": [
       "Text(0.5, 1.0, 'Heatmap Korelasi Antar Variabel Numerik terhadap Stunting')"
      ]
     },
     "execution_count": 55,
     "metadata": {},
     "output_type": "execute_result"
    },
    {
     "data": {
      "image/png": "[encoded data removed]",
      "text/plain": [
       "<Figure size 800x600 with 2 Axes>"
      ]
     },
     "metadata": {},
     "output_type": "display_data"
    }
   ],
   "source": [
    "# Visualisasi heatmap\n",
    "import seaborn as sns\n",
    "import matplotlib.pyplot as plt\n",
    "\n",
    "plt.figure(figsize=(8, 6))\n",
    "sns.heatmap(\n",
    "    corr_matrix,\n",
    "    annot=True,\n",
    "    cmap='coolwarm',\n",
    "    fmt=\".2f\",\n",
    "    linewidths=0.5\n",
    ")\n",
    "plt.title(\"Heatmap Korelasi Antar Variabel Numerik terhadap Stunting\", fontsize=12)"
   ]
  },
  {
   "cell_type": "markdown",
   "id": "1508e0b2",
   "metadata": {},
   "source": [
    "5. Pembagian Dataset (Training dan Testing)"
   ]
  },
  {
   "cell_type": "markdown",
   "id": "8b89de2b",
   "metadata": {},
   "source": [
    "5.1 Menentukan Fitur dan Target"
   ]
  },
  {
   "cell_type": "code",
   "execution_count": 57,
   "id": "cdce7178",
   "metadata": {},
   "outputs": [
    {
     "name": "stdout",
     "output_type": "stream",
     "text": [
      "X shape: (92692, 4)\n",
      "y shape: (92692,)\n"
     ]
    }
   ],
   "source": [
    "# Fitur numerik dan gender\n",
    "feature_num = ['Umur (bulan)', 'Tinggi Badan (cm)', 'Berat Badan (kg)']\n",
    "feature_bin = ['JK_bin']\n",
    "\n",
    "# Gabungkan & drop missing\n",
    "use_cols = feature_num + feature_bin + ['Stunting_bin']\n",
    "df_model = df[use_cols].dropna().copy()\n",
    "\n",
    "X = df_model[feature_num + feature_bin]\n",
    "y = df_model['Stunting_bin']\n",
    "\n",
    "print(\"X shape:\", X.shape)\n",
    "print(\"y shape:\", y.shape)"
   ]
  },
  {
   "cell_type": "markdown",
   "id": "21b71d29",
   "metadata": {},
   "source": [
    "5.2 Membagi Dataset menjadi Training dan Testing Set"
   ]
  },
  {
   "cell_type": "code",
   "execution_count": 58,
   "id": "90484980",
   "metadata": {},
   "outputs": [
    {
     "name": "stdout",
     "output_type": "stream",
     "text": [
      "Data latih: (74153, 4)\n",
      "Data uji: (18539, 4)\n"
     ]
    }
   ],
   "source": [
    "X_train, X_test, y_train, y_test = train_test_split(\n",
    "    X, y,\n",
    "    test_size=0.2,\n",
    "    random_state=42,\n",
    "    stratify=y\n",
    ")\n",
    "\n",
    "print(\"Data latih:\", X_train.shape)\n",
    "print(\"Data uji:\", X_test.shape)"
   ]
  },
  {
   "cell_type": "markdown",
   "id": "d9c3b458",
   "metadata": {},
   "source": [
    "6. Pembangunan Model Logistic Regression"
   ]
  },
  {
   "cell_type": "code",
   "execution_count": 59,
   "id": "7567649c",
   "metadata": {},
   "outputs": [
    {
     "name": "stdout",
     "output_type": "stream",
     "text": [
      "✔ Model Logistic Regression berhasil dilatih.\n"
     ]
    }
   ],
   "source": [
    "# Scale hanya fitur numerik, gender langsung passthrough\n",
    "preprocess = ColumnTransformer(\n",
    "    transformers=[\n",
    "        ('num', StandardScaler(), feature_num),\n",
    "        ('bin', 'passthrough', feature_bin)\n",
    "    ],\n",
    "    remainder='drop'\n",
    ")\n",
    "\n",
    "model = LogisticRegression(\n",
    "    max_iter=1000,\n",
    "    solver='lbfgs',\n",
    "    class_weight='balanced',\n",
    "    random_state=42\n",
    ")\n",
    "\n",
    "clf = Pipeline([\n",
    "    ('preprocess', preprocess),\n",
    "    ('model', model)\n",
    "])\n",
    "\n",
    "# Latih model\n",
    "clf.fit(X_train, y_train)\n",
    "print(\"✔ Model Logistic Regression berhasil dilatih.\")"
   ]
  },
  {
   "cell_type": "markdown",
   "id": "41a91734",
   "metadata": {},
   "source": [
    "7. Prediksi Model dan Evaluasi Model"
   ]
  },
  {
   "cell_type": "code",
   "execution_count": 60,
   "id": "27b25e4b",
   "metadata": {},
   "outputs": [
    {
     "name": "stdout",
     "output_type": "stream",
     "text": [
      "Akurasi   : 0.9063\n",
      "Precision : 0.7139\n",
      "Recall    : 0.9571\n",
      "F1-Score  : 0.8178\n",
      "ROC-AUC   : 0.9651\n"
     ]
    }
   ],
   "source": [
    "# Prediksi & probabilitas\n",
    "y_pred = clf.predict(X_test)               # label kelas (0/1)\n",
    "y_prob  = clf.predict_proba(X_test)[:, 1]  # probabilitas kelas positif (1)\n",
    "\n",
    "# Hitung metrik\n",
    "print(f\"Akurasi   : {accuracy_score(y_test, y_pred):.4f}\")\n",
    "print(f\"Precision : {precision_score(y_test, y_pred, zero_division=0):.4f}\")\n",
    "print(f\"Recall    : {recall_score(y_test, y_pred, zero_division=0):.4f}\")\n",
    "print(f\"F1-Score  : {f1_score(y_test, y_pred, zero_division=0):.4f}\")\n",
    "print(f\"ROC-AUC   : {roc_auc_score(y_test, y_prob):.4f}\")"
   ]
  },
  {
   "cell_type": "markdown",
   "id": "4c3b04b7",
   "metadata": {},
   "source": [
    "8. Visualisasi Hasil Evaluasi"
   ]
  },
  {
   "cell_type": "code",
   "execution_count": 61,
   "id": "23b828ab",
   "metadata": {},
   "outputs": [
    {
     "data": {
      "image/png": "[encoded data removed]",
      "text/plain": [
       "<Figure size 640x480 with 2 Axes>"
      ]
     },
     "metadata": {},
     "output_type": "display_data"
    },
    {
     "data": {
      "image/png": "[encoded data removed]",
      "text/plain": [
       "<Figure size 640x480 with 2 Axes>"
      ]
     },
     "metadata": {},
     "output_type": "display_data"
    },
    {
     "data": {
      "image/png": "[encoded data removed]",
      "text/plain": [
       "<Figure size 640x480 with 1 Axes>"
      ]
     },
     "metadata": {},
     "output_type": "display_data"
    }
   ],
   "source": [
    "# Confusion Matrix\n",
    "ConfusionMatrixDisplay.from_predictions(\n",
    "    y_test, y_pred,\n",
    "    display_labels=['Normal', 'Stunting']\n",
    ").plot(values_format='d')\n",
    "plt.title(\"Confusion Matrix\")\n",
    "plt.show()\n",
    "\n",
    "# ROC Curve\n",
    "RocCurveDisplay.from_estimator(clf, X_test, y_test)\n",
    "plt.title(\"ROC Curve – Logistic Regression\")\n",
    "plt.show()"
   ]
  },
  {
   "cell_type": "markdown",
   "id": "3972031f",
   "metadata": {},
   "source": [
    "9. Classification Report"
   ]
  },
  {
   "cell_type": "code",
   "execution_count": 70,
   "id": "124d1c7a",
   "metadata": {},
   "outputs": [
    {
     "name": "stdout",
     "output_type": "stream",
     "text": [
      "                    precision    recall  f1-score   support\n",
      "\n",
      "      Stunting (1)       0.99      0.89      0.94     14464\n",
      "Tidak Stunting (0)       0.71      0.96      0.82      4075\n",
      "\n",
      "          accuracy                           0.91     18539\n",
      "         macro avg       0.85      0.92      0.88     18539\n",
      "      weighted avg       0.93      0.91      0.91     18539\n",
      "\n"
     ]
    }
   ],
   "source": [
    "print(classification_report(y_test, y_pred, target_names=['Stunting (1)', 'Tidak Stunting (0)'], zero_division=0))"
   ]
  },
  {
   "cell_type": "markdown",
   "id": "d48144ef",
   "metadata": {},
   "source": [
    "10. Classification Report"
   ]
  },
  {
   "cell_type": "code",
   "execution_count": 71,
   "id": "bdcf6f9a",
   "metadata": {},
   "outputs": [
    {
     "name": "stdout",
     "output_type": "stream",
     "text": [
      "Skor tiap fold: [0.9084093  0.90414801 0.90468227 0.90673212 0.9028482 ]\n",
      "Rata-rata akurasi: 0.9053639814725255\n",
      "Standar deviasi: 0.001970695381359219\n"
     ]
    }
   ],
   "source": [
    "from sklearn.model_selection import cross_val_score\n",
    "import numpy as np\n",
    "\n",
    "# Lakukan cross-validation (cv=5 berarti 5-fold)\n",
    "scores = cross_val_score(clf, X, y, cv=5)\n",
    "\n",
    "# Tampilkan hasil\n",
    "print(\"Skor tiap fold:\", scores)\n",
    "print(\"Rata-rata akurasi:\", np.mean(scores))\n",
    "print(\"Standar deviasi:\", np.std(scores))"
   ]
  },
  {
   "cell_type": "markdown",
   "id": "021f13fb",
   "metadata": {},
   "source": [
    "11. Interpretasi Model Logistic Regression"
   ]
  },
  {
   "cell_type": "code",
   "execution_count": 72,
   "id": "d387c3de",
   "metadata": {},
   "outputs": [
    {
     "data": {
      "text/html": [
       "<div>\n",
       "<style scoped>\n",
       "    .dataframe tbody tr th:only-of-type {\n",
       "        vertical-align: middle;\n",
       "    }\n",
       "\n",
       "    .dataframe tbody tr th {\n",
       "        vertical-align: top;\n",
       "    }\n",
       "\n",
       "    .dataframe thead th {\n",
       "        text-align: right;\n",
       "    }\n",
       "</style>\n",
       "<table border=\"1\" class=\"dataframe\">\n",
       "  <thead>\n",
       "    <tr style=\"text-align: right;\">\n",
       "      <th></th>\n",
       "      <th>Fitur</th>\n",
       "      <th>Koefisien (log-odds)</th>\n",
       "      <th>Odds Ratio (e^coef)</th>\n",
       "    </tr>\n",
       "  </thead>\n",
       "  <tbody>\n",
       "    <tr>\n",
       "      <th>0</th>\n",
       "      <td>Umur (bulan)</td>\n",
       "      <td>8.661420</td>\n",
       "      <td>5775.733054</td>\n",
       "    </tr>\n",
       "    <tr>\n",
       "      <th>3</th>\n",
       "      <td>JK_bin</td>\n",
       "      <td>1.726339</td>\n",
       "      <td>5.620042</td>\n",
       "    </tr>\n",
       "    <tr>\n",
       "      <th>2</th>\n",
       "      <td>Berat Badan (kg)</td>\n",
       "      <td>0.653153</td>\n",
       "      <td>1.921590</td>\n",
       "    </tr>\n",
       "    <tr>\n",
       "      <th>1</th>\n",
       "      <td>Tinggi Badan (cm)</td>\n",
       "      <td>-10.742834</td>\n",
       "      <td>0.000022</td>\n",
       "    </tr>\n",
       "  </tbody>\n",
       "</table>\n",
       "</div>"
      ],
      "text/plain": [
       "               Fitur  Koefisien (log-odds)  Odds Ratio (e^coef)\n",
       "0       Umur (bulan)              8.661420          5775.733054\n",
       "3             JK_bin              1.726339             5.620042\n",
       "2   Berat Badan (kg)              0.653153             1.921590\n",
       "1  Tinggi Badan (cm)            -10.742834             0.000022"
      ]
     },
     "metadata": {},
     "output_type": "display_data"
    }
   ],
   "source": [
    "# Ambil nama fitur & koefisien\n",
    "feat_names = feature_num + feature_bin          # gabungkan daftar kolom\n",
    "coefs      = clf.named_steps['model'].coef_[0]  # ekstrak koefisien dari model\n",
    "odds       = np.exp(coefs)                      # ubah ke Odds Ratio\n",
    "\n",
    "# Buat DataFrame untuk mudah dibaca\n",
    "coef_df = pd.DataFrame({\n",
    "    'Fitur': feat_names,\n",
    "    'Koefisien (log-odds)': coefs,\n",
    "    'Odds Ratio (e^coef)': odds\n",
    "}).sort_values('Odds Ratio (e^coef)', ascending=False)\n",
    "\n",
    "display(coef_df)"
   ]
  },
  {
   "cell_type": "markdown",
   "id": "8d2e2a6d",
   "metadata": {},
   "source": [
    "12. Prediksi Data Baru (Contoh Kasus)"
   ]
  },
  {
   "cell_type": "code",
   "execution_count": 73,
   "id": "947fe7b9",
   "metadata": {},
   "outputs": [
    {
     "data": {
      "text/html": [
       "<div>\n",
       "<style scoped>\n",
       "    .dataframe tbody tr th:only-of-type {\n",
       "        vertical-align: middle;\n",
       "    }\n",
       "\n",
       "    .dataframe tbody tr th {\n",
       "        vertical-align: top;\n",
       "    }\n",
       "\n",
       "    .dataframe thead th {\n",
       "        text-align: right;\n",
       "    }\n",
       "</style>\n",
       "<table border=\"1\" class=\"dataframe\">\n",
       "  <thead>\n",
       "    <tr style=\"text-align: right;\">\n",
       "      <th></th>\n",
       "      <th>Umur (bulan)</th>\n",
       "      <th>Tinggi Badan (cm)</th>\n",
       "      <th>Berat Badan (kg)</th>\n",
       "      <th>JK_bin</th>\n",
       "      <th>prob_stunting</th>\n",
       "      <th>Pred (0=Tidak, 1=Ya)</th>\n",
       "    </tr>\n",
       "  </thead>\n",
       "  <tbody>\n",
       "    <tr>\n",
       "      <th>0</th>\n",
       "      <td>24</td>\n",
       "      <td>79.0</td>\n",
       "      <td>9.2</td>\n",
       "      <td>1</td>\n",
       "      <td>0.998346</td>\n",
       "      <td>1.0</td>\n",
       "    </tr>\n",
       "    <tr>\n",
       "      <th>1</th>\n",
       "      <td>10</td>\n",
       "      <td>72.5</td>\n",
       "      <td>7.8</td>\n",
       "      <td>0</td>\n",
       "      <td>0.001810</td>\n",
       "      <td>0.0</td>\n",
       "    </tr>\n",
       "  </tbody>\n",
       "</table>\n",
       "</div>"
      ],
      "text/plain": [
       "   Umur (bulan)  Tinggi Badan (cm)  Berat Badan (kg)  JK_bin  prob_stunting  \\\n",
       "0            24               79.0               9.2       1       0.998346   \n",
       "1            10               72.5               7.8       0       0.001810   \n",
       "\n",
       "   Pred (0=Tidak, 1=Ya)  \n",
       "0                   1.0  \n",
       "1                   0.0  "
      ]
     },
     "metadata": {},
     "output_type": "display_data"
    }
   ],
   "source": [
    "# Contoh 2 anak\n",
    "data_baru = pd.DataFrame({\n",
    "    'Umur (bulan)':       [24, 10],\n",
    "    'Tinggi Badan (cm)':  [79.0, 72.5],\n",
    "    'Berat Badan (kg)':   [9.2, 7.8],\n",
    "    'JK_bin':             [1, 0]          # 1 = Laki-laki, 0 = Perempuan\n",
    "})\n",
    "\n",
    "pred = clf.predict(data_baru)            # label prediksi (0 / 1)\n",
    "prob = clf.predict_proba(data_baru)[:, 1] # probabilitas stunting\n",
    "\n",
    "hasil = data_baru.copy()\n",
    "hasil['prob_stunting'] = prob\n",
    "hasil['Pred (0=Tidak, 1=Ya)'] = pred\n",
    "\n",
    "display(hasil)"
   ]
  }
 ],
 "metadata": {
  "kernelspec": {
   "display_name": "Python 3",
   "language": "python",
   "name": "python3"
  },
  "language_info": {
   "codemirror_mode": {
    "name": "ipython",
    "version": 3
   },
   "file_extension": ".py",
   "mimetype": "text/x-python",
   "name": "python",
   "nbconvert_exporter": "python",
   "pygments_lexer": "ipython3",
   "version": "3.13.3"
  }
 },
 "nbformat": 4,
 "nbformat_minor": 5
}
