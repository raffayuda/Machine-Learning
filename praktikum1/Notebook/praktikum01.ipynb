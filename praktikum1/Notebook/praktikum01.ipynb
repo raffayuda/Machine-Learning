{
 "cells": [
  {
   "cell_type": "code",
   "execution_count": null,
   "id": "2ff32d53",
   "metadata": {},
   "outputs": [
    {
     "name": "stdout",
     "output_type": "stream",
     "text": [
      "   instant      dteday  season  yr  mnth  holiday  weekday  workingday  \\\n",
      "0        1  2011-01-01       1   0     1        0        6           0   \n",
      "1        2  2011-01-02       1   0     1        0        0           0   \n",
      "2        3  2011-01-03       1   0     1        0        1           1   \n",
      "3        4  2011-01-04       1   0     1        0        2           1   \n",
      "4        5  2011-01-05       1   0     1        0        3           1   \n",
      "\n",
      "   weathersit      temp     atemp       hum  windspeed  casual  registered  \\\n",
      "0           2  0.344167  0.363625  0.805833   0.160446     331         654   \n",
      "1           2  0.363478  0.353739  0.696087   0.248539     131         670   \n",
      "2           1  0.196364  0.189405  0.437273   0.248309     120        1229   \n",
      "3           1  0.200000  0.212122  0.590435   0.160296     108        1454   \n",
      "4           1  0.226957  0.229270  0.436957   0.186900      82        1518   \n",
      "\n",
      "    cnt  \n",
      "0   985  \n",
      "1   801  \n",
      "2  1349  \n",
      "3  1562  \n",
      "4  1600  \n"
     ]
    }
   ],
   "source": [
    "import pandas as pd\n",
    "\n",
    "df =  pd.read_csv('../data/day.csv', sep=',')\n",
    "\n",
    "print(df.head(5))"
   ]
  },
  {
   "cell_type": "code",
   "execution_count": 10,
   "id": "95b17fae",
   "metadata": {},
   "outputs": [
    {
     "name": "stdout",
     "output_type": "stream",
     "text": [
      "   instant      dteday      temp  season       hum  windspeed\n",
      "0        1  2011-01-01  0.344167       1  0.805833   0.160446\n",
      "1        2  2011-01-02  0.363478       1  0.696087   0.248539\n",
      "2        3  2011-01-03  0.196364       1  0.437273   0.248309\n",
      "3        4  2011-01-04  0.200000       1  0.590435   0.160296\n",
      "4        5  2011-01-05  0.226957       1  0.436957   0.186900\n"
     ]
    }
   ],
   "source": [
    "# 1. Lakukan latihan baca file dataset lainnya dan tampilkan !\n",
    "df = pd.read_csv('../data/day.csv', sep=',')\n",
    "\n",
    "# 2. Buat dataframe baru (missal: df1) dari dataframe sebelumnya, dengan data yang diambil adalah instant, dteday,season,temp,hum,windspeed\n",
    "df1 = df[['instant', 'dteday', 'temp', 'season', 'hum', 'windspeed']]\n",
    "\n",
    "# 3. Cetak dataframe baru kelayar\n",
    "print(df1.head(5))\n",
    "\n",
    "# 4. simpan data yang sudah di filter\n",
    "df1.to_csv('../data/latihan01.csv', index=False)"
   ]
  }
 ],
 "metadata": {
  "kernelspec": {
   "display_name": "Python 3",
   "language": "python",
   "name": "python3"
  },
  "language_info": {
   "codemirror_mode": {
    "name": "ipython",
    "version": 3
   },
   "file_extension": ".py",
   "mimetype": "text/x-python",
   "name": "python",
   "nbconvert_exporter": "python",
   "pygments_lexer": "ipython3",
   "version": "3.13.3"
  }
 },
 "nbformat": 4,
 "nbformat_minor": 5
}
